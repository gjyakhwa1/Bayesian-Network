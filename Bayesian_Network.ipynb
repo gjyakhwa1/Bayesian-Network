{
  "nbformat": 4,
  "nbformat_minor": 0,
  "metadata": {
    "colab": {
      "name": "Bayesian Network.ipynb",
      "provenance": []
    },
    "kernelspec": {
      "name": "python3",
      "display_name": "Python 3"
    },
    "language_info": {
      "name": "python"
    }
  },
  "cells": [
    {
      "cell_type": "code",
      "execution_count": null,
      "metadata": {
        "id": "NySzVyAlmWPJ"
      },
      "outputs": [],
      "source": [
        "!pip install -q gradio"
      ]
    },
    {
      "cell_type": "code",
      "source": [
        "import numpy as np\n",
        "import pandas as pd\n",
        "import gradio as gr\n",
        "from typing import Union"
      ],
      "metadata": {
        "id": "ajD6s8FMma2G"
      },
      "execution_count": null,
      "outputs": []
    },
    {
      "cell_type": "markdown",
      "source": [
        "# Classes for creating Discrete Distribution and Conditional Probability table"
      ],
      "metadata": {
        "id": "AlVA4KPcnBbO"
      }
    },
    {
      "cell_type": "code",
      "source": [
        "class DiscreteDistribution:\n",
        "    def __init__(self,eventChoices,name):\n",
        "        self.eventChoices=eventChoices#evenChoices is a dictionary containing possible choices\n",
        "        self.name=name\n",
        "    \n",
        "    def getProbability(self,queryChoice):\n",
        "        return self.eventChoices.get(queryChoice)#return the marginal probability for given query\n",
        "\n",
        "\n",
        "class ConditionalProbabilityTable:\n",
        "    def __init__(self,conditions,dependencyList,name):\n",
        "        self.dependencyList=dependencyList#list of dependent Node\n",
        "        self.name=name\n",
        "        columns=[distribution.name for distribution in self.dependencyList]+[self.name,\"probability\"]#adding columns name in dataframe\n",
        "        self.conditions=pd.DataFrame(conditions,columns=columns)#creating a dataframe for CPT\n",
        "        self.jointProbability=self.conditions.copy()#creating a dataframe for joint porbability distribution\n",
        "    #Calculating joint probability distribution\n",
        "    def joint(self):\n",
        "        #P(Monty,Prize,Guest)=P(Monty|Prize,Guest)*P(Prize)*P(Guest)\n",
        "        for node in self.dependencyList:\n",
        "            self.jointProbability['probability']=np.multiply(np.array(self.jointProbability['probability']),\\\n",
        "                #returns the marginal probability for given choice \n",
        "                np.array([node.randomVariable.eventChoices.get(choice) for choice in self.jointProbability[node.name]]))"
      ],
      "metadata": {
        "id": "jNBiWdVVm0VS"
      },
      "execution_count": null,
      "outputs": []
    },
    {
      "cell_type": "markdown",
      "source": [
        "# Class for node"
      ],
      "metadata": {
        "id": "HImG81xKnMVL"
      }
    },
    {
      "cell_type": "code",
      "source": [
        "class Node:\n",
        "    def __init__(self,randomVariable:Union[DiscreteDistribution,ConditionalProbabilityTable]):\n",
        "        self.randomVariable = randomVariable #can be Discrete Distribution or CPT\n",
        "        self.name= self.randomVariable.name \n",
        "        self.parentNode = None\n",
        "        self.childNodes=None\n",
        "\n",
        "    def addParent(self, node):\n",
        "        if self.parentNode==None:\n",
        "            self.parentNode=[]\n",
        "        self.parentNode.append(node)\n",
        "        self._addChild(node)\n",
        "    \n",
        "    def _addChild(self,node):\n",
        "        if node.childNodes==None:\n",
        "            node.childNodes=[]\n",
        "        node.childNodes.append(self)"
      ],
      "metadata": {
        "id": "wA9may2em583"
      },
      "execution_count": null,
      "outputs": []
    },
    {
      "cell_type": "markdown",
      "source": [
        "# Class for Bayesian Network"
      ],
      "metadata": {
        "id": "GuAmpHvHnQlv"
      }
    },
    {
      "cell_type": "code",
      "source": [
        "class BayesianNetwork:\n",
        "    def addStates(self,*args):\n",
        "        self.nodes=[node for node in args]\n",
        "\n",
        "    def addEdge(self,source,destination):\n",
        "        destination.addParent(source)\n",
        "    \n",
        "    def getStates(self):\n",
        "        return self.nodes\n",
        "    \n",
        "    def _getConditionalNode(self):\n",
        "        for node in self.nodes:\n",
        "            if node.randomVariable.__class__.__name__=='ConditionalProbabilityTable':\n",
        "                return node\n",
        "\n",
        "    def getNumerator(self,randomV,predictionDictionary):\n",
        "        dfFilterCondition=(randomV.jointProbability[predictionDictionary.keys()] == predictionDictionary.values()).all(axis=1)\n",
        "        return randomV.jointProbability.loc[dfFilterCondition]['probability']\n",
        "    \n",
        "    def getDenominator(self,randomV,predictionDictionary,query):\n",
        "        #get the node in node list which is none in the query\n",
        "        node=[node for node in self.nodes if node.name==query][0]\n",
        "        filterCondition=predictionDictionary\n",
        "        filterCondition.pop(query)\n",
        "        if node.randomVariable.__class__.__name__=='DiscreteDistribution':\n",
        "            #P(Monty|guest)*P(guest)\n",
        "            #P(Monty|guest)  or P(Monty|prize)\n",
        "            #calculations--first finding all the tuples from CPT with Monty and (guest or prize) given\n",
        "            cpt=randomV.conditions.loc[(randomV.conditions[filterCondition.keys()]==filterCondition.values()).all(axis=1)]['probability']\n",
        "            denominator=np.array(cpt).mean()\n",
        "            #P(guest) or P(prize)\n",
        "            discreteNode=[i for i in randomV.dependencyList if i!=node][0]\n",
        "            choice=filterCondition.get(discreteNode.name)\n",
        "            #P(Monty|guest)*P(guest)\n",
        "            denominator*=discreteNode.randomVariable.eventChoices.get(choice)\n",
        "            return denominator\n",
        "        else:\n",
        "            #P(Prize)*P(Guest)\n",
        "            denominator=1\n",
        "            dNodeList=[i for i in self.nodes if i.name in filterCondition.keys()]\n",
        "            for dNode in dNodeList:\n",
        "                denominator*=dNode.randomVariable.eventChoices.get(filterCondition.get(dNode.name))\n",
        "            return denominator\n",
        "\n",
        "    def predictProbability(self,predictionDictionary):\n",
        "        node=self._getConditionalNode()\n",
        "        randomV=node.randomVariable\n",
        "        randomV.joint()#calculate joint probability using Conditional Probability table and Discrete Disctribution\n",
        "        query=list(predictionDictionary.keys())[list(predictionDictionary.values()).index(None)]#get dictionary element with None\n",
        "        choices={k:0 for k in randomV.conditions[query]}#create a dictionary for unique elements in query\n",
        "        for choice in choices.keys():\n",
        "            #P(guest,monty,prize):-from joint probability\n",
        "            predictionDictionary[query]=choice\n",
        "            #choose the joint distribution according to the condition given \n",
        "            numerator=self.getNumerator(randomV,predictionDictionary)\n",
        "            denominator=self.getDenominator(randomV,predictionDictionary,query)\n",
        "            #numerator/P(Monty|guest)*P(guest)\n",
        "            choices[choice]=float(numerator)/denominator\n",
        "        return choices"
      ],
      "metadata": {
        "id": "YpL0CJFxm8UX"
      },
      "execution_count": null,
      "outputs": []
    },
    {
      "cell_type": "markdown",
      "source": [
        "# Main file"
      ],
      "metadata": {
        "id": "w6PHFvp6nWiX"
      }
    },
    {
      "cell_type": "code",
      "source": [
        "import json\n",
        "def sentence_builder(Guest,Prize,Monty):\n",
        "    choice={}\n",
        "    choice['Guest']=Guest\n",
        "    choice['Prize']=Prize\n",
        "    choice['Monty']=Monty\n",
        "    if Prize=='?':\n",
        "        choice['Prize']=None\n",
        "    elif Monty=='?' :\n",
        "        choice['Monty']=None\n",
        "    model=BayesianNetwork()\n",
        "    guest=Node(DiscreteDistribution({'A': 1./3, 'B': 1./3, 'C': 1./3},name=\"Guest\"))\n",
        "    prize=Node(DiscreteDistribution({'A': 1./3, 'B': 1./3, 'C': 1./3},name=\"Prize\"))\n",
        "    monty=Node(ConditionalProbabilityTable(\n",
        "        [['A', 'A', 'A', 0.0],\n",
        "          ['A', 'A', 'B', 0.5],\n",
        "          ['A', 'A', 'C', 0.5],\n",
        "          ['A', 'B', 'A', 0.0],\n",
        "          ['A', 'B', 'B', 0.0],\n",
        "          ['A', 'B', 'C', 1.0],\n",
        "          ['A', 'C', 'A', 0.0],\n",
        "          ['A', 'C', 'B', 1.0],\n",
        "          ['A', 'C', 'C', 0.0],\n",
        "          ['B', 'A', 'A', 0.0],\n",
        "          ['B', 'A', 'B', 0.0],\n",
        "          ['B', 'A', 'C', 1.0],\n",
        "          ['B', 'B', 'A', 0.5],\n",
        "          ['B', 'B', 'B', 0.0],\n",
        "          ['B', 'B', 'C', 0.5],\n",
        "          ['B', 'C', 'A', 1.0],\n",
        "          ['B', 'C', 'B', 0.0],\n",
        "          ['B', 'C', 'C', 0.0],\n",
        "          ['C', 'A', 'A', 0.0],\n",
        "          ['C', 'A', 'B', 1.0],\n",
        "          ['C', 'A', 'C', 0.0],\n",
        "          ['C', 'B', 'A', 1.0],\n",
        "          ['C', 'B', 'B', 0.0],\n",
        "          ['C', 'B', 'C', 0.0],\n",
        "          ['C', 'C', 'A', 0.5],\n",
        "          ['C', 'C', 'B', 0.5],\n",
        "          ['C', 'C', 'C', 0.0]], [guest,prize],name=\"Monty\"))\n",
        "\n",
        "    model.addStates(guest,prize,monty)\n",
        "    model.addEdge(guest,monty)\n",
        "    model.addEdge(prize,monty)\n",
        "    # print(model.predictProbability(choice))\n",
        "    output=model.predictProbability(choice)\n",
        "    # return json.dumps(output)\n",
        "    return {k:float(output.get(k)) for k in output.keys()}\n",
        "\n",
        "iface = gr.Interface(\n",
        "    sentence_builder,\n",
        "    [\n",
        "        gr.inputs.Radio([\"A\",\"B\",\"C\"]),\n",
        "        gr.inputs.Radio([\"A\",\"B\",\"C\",\"?\"]),\n",
        "        gr.inputs.Radio([\"A\",\"B\",\"C\",\"?\"]),\n",
        "    ],\n",
        "    gr.outputs.Label(num_top_classes=3),\n",
        ")\n",
        "iface.launch()"
      ],
      "metadata": {
        "colab": {
          "base_uri": "https://localhost:8080/",
          "height": 643
        },
        "id": "4JZJxc-Qm_in",
        "outputId": "0b30839e-316a-47e5-f3e5-6f1aa77df2d1"
      },
      "execution_count": null,
      "outputs": [
        {
          "output_type": "stream",
          "name": "stdout",
          "text": [
            "Colab notebook detected. To show errors in colab notebook, set `debug=True` in `launch()`\n",
            "Running on public URL: https://40654.gradio.app\n",
            "\n",
            "This share link expires in 72 hours. For free permanent hosting, check out Spaces (https://huggingface.co/spaces)\n"
          ]
        },
        {
          "output_type": "display_data",
          "data": {
            "text/html": [
              "\n",
              "        <iframe\n",
              "            width=\"900\"\n",
              "            height=\"500\"\n",
              "            src=\"https://40654.gradio.app\"\n",
              "            frameborder=\"0\"\n",
              "            allowfullscreen\n",
              "        ></iframe>\n",
              "        "
            ],
            "text/plain": [
              "<IPython.lib.display.IFrame at 0x7fa440354050>"
            ]
          },
          "metadata": {}
        },
        {
          "output_type": "execute_result",
          "data": {
            "text/plain": [
              "(<fastapi.applications.FastAPI at 0x7fa446014710>,\n",
              " 'http://127.0.0.1:7861/',\n",
              " 'https://40654.gradio.app')"
            ]
          },
          "metadata": {},
          "execution_count": 13
        }
      ]
    },
    {
      "cell_type": "code",
      "source": [
        "model=BayesianNetwork()\n",
        "guest=Node(DiscreteDistribution({'A': 1./3, 'B': 1./3, 'C': 1./3},name=\"Guest\"))\n",
        "prize=Node(DiscreteDistribution({'A': 1./3, 'B': 1./3, 'C': 1./3},name=\"Prize\"))\n",
        "monty=Node(ConditionalProbabilityTable(\n",
        "    [['A', 'A', 'A', 0.0],\n",
        "      ['A', 'A', 'B', 0.5],\n",
        "      ['A', 'A', 'C', 0.5],\n",
        "      ['A', 'B', 'A', 0.0],\n",
        "      ['A', 'B', 'B', 0.0],\n",
        "      ['A', 'B', 'C', 1.0],\n",
        "      ['A', 'C', 'A', 0.0],\n",
        "      ['A', 'C', 'B', 1.0],\n",
        "      ['A', 'C', 'C', 0.0],\n",
        "      ['B', 'A', 'A', 0.0],\n",
        "      ['B', 'A', 'B', 0.0],\n",
        "      ['B', 'A', 'C', 1.0],\n",
        "      ['B', 'B', 'A', 0.5],\n",
        "      ['B', 'B', 'B', 0.0],\n",
        "      ['B', 'B', 'C', 0.5],\n",
        "      ['B', 'C', 'A', 1.0],\n",
        "      ['B', 'C', 'B', 0.0],\n",
        "      ['B', 'C', 'C', 0.0],\n",
        "      ['C', 'A', 'A', 0.0],\n",
        "      ['C', 'A', 'B', 1.0],\n",
        "      ['C', 'A', 'C', 0.0],\n",
        "      ['C', 'B', 'A', 1.0],\n",
        "      ['C', 'B', 'B', 0.0],\n",
        "      ['C', 'B', 'C', 0.0],\n",
        "      ['C', 'C', 'A', 0.5],\n",
        "      ['C', 'C', 'B', 0.5],\n",
        "      ['C', 'C', 'C', 0.0]], [guest,prize],name=\"Monty\"))\n",
        "\n",
        "model.addStates(guest,prize,monty)\n",
        "model.addEdge(guest,monty)\n",
        "model.addEdge(prize,monty)\n",
        "choice={\n",
        "        'Guest':'A',\n",
        "        'Prize':None,\n",
        "        'Monty':'B'\n",
        "        \n",
        "    }\n",
        "print(model.predictProbability(choice))"
      ],
      "metadata": {
        "id": "mdheF5-DUIsQ",
        "colab": {
          "base_uri": "https://localhost:8080/"
        },
        "outputId": "fadc7617-1f73-49f3-e2a5-05be9c8ad42d"
      },
      "execution_count": null,
      "outputs": [
        {
          "output_type": "stream",
          "name": "stdout",
          "text": [
            "{'A': 0.3333333333333333, 'B': 0.0, 'C': 0.6666666666666666}\n"
          ]
        }
      ]
    },
    {
      "cell_type": "code",
      "source": [
        ""
      ],
      "metadata": {
        "id": "Qq6WvHKMt4PM"
      },
      "execution_count": null,
      "outputs": []
    }
  ]
}